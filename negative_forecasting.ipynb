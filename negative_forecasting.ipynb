{
 "cells": [
  {
   "cell_type": "code",
   "execution_count": null,
   "metadata": {},
   "outputs": [],
   "source": [
    "import warnings\n",
    "import numpy as np\n",
    "import pandas as pd\n",
    "import statsmodels.api as sm\n",
    "import matplotlib.pyplot as plt\n",
    "from sklearn.metrics import r2_score\n",
    "from statsmodels.tsa.arima.model import ARIMA\n",
    "from statsmodels.tsa.stattools import adfuller\n",
    "from statsmodels.tsa.seasonal import seasonal_decompose\n",
    "from statsmodels.graphics.tsaplots import plot_acf, plot_pacf\n",
    "from sklearn.model_selection import train_test_split\n",
    "\n",
    "warnings.filterwarnings(\"ignore\")"
   ]
  },
  {
   "cell_type": "code",
   "execution_count": null,
   "metadata": {},
   "outputs": [],
   "source": [
    "df = pd.read_excel(\"./data/population_ghi_unemploment_yearwise_import export_africa_sheet.xlsx\")\n"
   ]
  },
  {
   "cell_type": "code",
   "execution_count": null,
   "metadata": {},
   "outputs": [],
   "source": [
    "desired_columns = ['Year', 'Population', 'GHI']\n",
    "total_value_by_year = df[desired_columns]\n",
    "total_value_by_year = total_value_by_year.dropna()"
   ]
  },
  {
   "cell_type": "code",
   "execution_count": null,
   "metadata": {},
   "outputs": [],
   "source": [
    "total_value_by_year = total_value_by_year.iloc[::-1]\n",
    "\n"
   ]
  },
  {
   "cell_type": "code",
   "execution_count": null,
   "metadata": {},
   "outputs": [],
   "source": [
    "total_value_by_year"
   ]
  },
  {
   "cell_type": "code",
   "execution_count": null,
   "metadata": {},
   "outputs": [],
   "source": [
    "from statsmodels.tsa.holtwinters import ExponentialSmoothing\n",
    "# Fit exponential smoothing model\n",
    "model = ExponentialSmoothing(total_value_by_year['GHI'], seasonal_periods=12, trend='add', seasonal='add')\n",
    "model_fit = model.fit()\n",
    "\n",
    "# Forecast 5 years into the future\n",
    "forecast = model_fit.forecast(5)\n",
    "\n",
    "print(\"Forecasted values for the next 5 years:\")\n",
    "print(forecast)"
   ]
  },
  {
   "cell_type": "code",
   "execution_count": 73,
   "metadata": {},
   "outputs": [],
   "source": [
    "def precasting(filepath, col_name, n_years):\n",
    "    df = pd.read_excel(filepath)\n",
    "    desired_columns = ['Year','Population' ,col_name]\n",
    "    total_value_by_year = df[desired_columns]\n",
    "    total_value_by_year = total_value_by_year.dropna()\n",
    "    total_value_by_year = total_value_by_year[::-1]\n",
    "    # print(total_value_by_year.head())\n",
    "    model = ExponentialSmoothing(total_value_by_year[col_name], seasonal_periods=4, trend='add', seasonal='add')\n",
    "    model_fit = model.fit()\n",
    "\n",
    "    # Forecast 5 years into the future\n",
    "    forecast = model_fit.forecast(n_years)\n",
    "\n",
    "    print(\"Forecasted values for the next 5 years:\")\n",
    "    print (forecast[::-1])\n"
   ]
  },
  {
   "cell_type": "code",
   "execution_count": null,
   "metadata": {},
   "outputs": [],
   "source": [
    "precasting(\"./data/population_ghi_unemploment_yearwise_import export_africa_sheet.xlsx\",  'GHI', 31)"
   ]
  },
  {
   "cell_type": "code",
   "execution_count": null,
   "metadata": {},
   "outputs": [],
   "source": [
    "precasting(\"./data/population_ghi_unemploment_yearwise_import export_africa_sheet.xlsx\",  'Unemployment Above age 15', 31)"
   ]
  },
  {
   "cell_type": "code",
   "execution_count": null,
   "metadata": {},
   "outputs": [],
   "source": [
    "precasting(\"./data/population_ghi_unemploment_yearwise_import export_africa_sheet.xlsx\",  'Unemployment between age 15-24', 31)"
   ]
  },
  {
   "cell_type": "code",
   "execution_count": null,
   "metadata": {},
   "outputs": [],
   "source": [
    "precasting(\"./data/population_ghi_unemploment_yearwise_import export_africa_sheet.xlsx\",  'Unemployment Above age 25+', 31)"
   ]
  },
  {
   "cell_type": "code",
   "execution_count": null,
   "metadata": {},
   "outputs": [],
   "source": [
    "precasting(\"./data/population_ghi_unemploment_yearwise_import export_africa_sheet.xlsx\",  'People employed in agricultural sector in millions', 63)"
   ]
  },
  {
   "cell_type": "code",
   "execution_count": null,
   "metadata": {},
   "outputs": [],
   "source": [
    "precasting(\"./data/population_ghi_unemploment_yearwise_import export_africa_sheet.xlsx\",  'Total employment in Africa 2010-2021(In Millions)', 51)"
   ]
  },
  {
   "cell_type": "code",
   "execution_count": 80,
   "metadata": {},
   "outputs": [
    {
     "name": "stdout",
     "output_type": "stream",
     "text": [
      "Forecasted values for the next 5 years:\n",
      "74     86.483131\n",
      "73     88.256020\n",
      "72     91.024340\n",
      "71     91.288999\n",
      "70     93.329882\n",
      "         ...    \n",
      "16    186.878852\n",
      "15    187.143511\n",
      "14    189.184394\n",
      "13    190.957283\n",
      "12    193.725603\n",
      "Length: 63, dtype: float64\n"
     ]
    }
   ],
   "source": [
    "precasting(\"./data/population_ghi_unemploment_yearwise_import export_africa_sheet.xlsx\",  'People employed in agricultural sector in millions', 63)"
   ]
  },
  {
   "cell_type": "code",
   "execution_count": 81,
   "metadata": {},
   "outputs": [
    {
     "name": "stdout",
     "output_type": "stream",
     "text": [
      "Forecasted values for the next 5 years:\n",
      "62    83.754950\n",
      "61    83.730961\n",
      "60    83.682760\n",
      "59    83.570931\n",
      "58    83.470854\n",
      "57    83.446865\n",
      "56    83.398664\n",
      "55    83.286835\n",
      "54    83.186758\n",
      "53    83.162769\n",
      "52    83.114567\n",
      "51    83.002739\n",
      "50    82.902662\n",
      "49    82.878673\n",
      "48    82.830471\n",
      "47    82.718643\n",
      "46    82.618566\n",
      "45    82.594577\n",
      "44    82.546375\n",
      "43    82.434547\n",
      "42    82.334469\n",
      "41    82.310481\n",
      "40    82.262279\n",
      "39    82.150451\n",
      "38    82.050373\n",
      "37    82.026384\n",
      "36    81.978183\n",
      "35    81.866355\n",
      "34    81.766277\n",
      "33    81.742288\n",
      "32    81.694087\n",
      "31    81.582259\n",
      "30    81.482181\n",
      "29    81.458192\n",
      "28    81.409991\n",
      "27    81.298163\n",
      "26    81.198085\n",
      "25    81.174096\n",
      "24    81.125895\n",
      "23    81.014066\n",
      "22    80.913989\n",
      "dtype: float64\n"
     ]
    }
   ],
   "source": [
    "precasting(\"./data/population_ghi_unemploment_yearwise_import export_africa_sheet.xlsx\",  'Share of agricultural land in South Africa 2000-2020 in percentage', 41)"
   ]
  },
  {
   "cell_type": "code",
   "execution_count": 83,
   "metadata": {},
   "outputs": [
    {
     "name": "stdout",
     "output_type": "stream",
     "text": [
      "Forecasted values for the next 5 years:\n",
      "61   -5.503129e+07\n",
      "60   -5.542050e+07\n",
      "59   -4.720656e+07\n",
      "58   -4.724487e+07\n",
      "57   -4.827620e+07\n",
      "56   -4.866541e+07\n",
      "55   -4.045147e+07\n",
      "54   -4.048978e+07\n",
      "53   -4.152111e+07\n",
      "52   -4.191032e+07\n",
      "51   -3.369638e+07\n",
      "50   -3.373469e+07\n",
      "49   -3.476602e+07\n",
      "48   -3.515523e+07\n",
      "47   -2.694129e+07\n",
      "46   -2.697960e+07\n",
      "45   -2.801093e+07\n",
      "44   -2.840014e+07\n",
      "43   -2.018620e+07\n",
      "42   -2.022451e+07\n",
      "41   -2.125583e+07\n",
      "40   -2.164505e+07\n",
      "39   -1.343111e+07\n",
      "38   -1.346942e+07\n",
      "37   -1.450074e+07\n",
      "36   -1.488995e+07\n",
      "35   -6.676016e+06\n",
      "34   -6.714325e+06\n",
      "33   -7.745653e+06\n",
      "32   -8.134863e+06\n",
      "dtype: float64\n"
     ]
    }
   ],
   "source": [
    "precasting(\"./data/population_ghi_unemploment_yearwise_import export_africa_sheet.xlsx\",  'Export (US$ Thousand)', 30)"
   ]
  },
  {
   "cell_type": "code",
   "execution_count": 86,
   "metadata": {},
   "outputs": [
    {
     "name": "stdout",
     "output_type": "stream",
     "text": [
      "Forecasted values for the next 5 years:\n",
      "99     43.362054\n",
      "98     45.402956\n",
      "97     47.175804\n",
      "96     49.944100\n",
      "95     50.208782\n",
      "94     52.249683\n",
      "93     54.022531\n",
      "92     56.790828\n",
      "91     57.055509\n",
      "90     59.096410\n",
      "89     60.869259\n",
      "88     63.637555\n",
      "87     63.902236\n",
      "86     65.943138\n",
      "85     67.715986\n",
      "84     70.484282\n",
      "83     70.748964\n",
      "82     72.789865\n",
      "81     74.562713\n",
      "80     77.331010\n",
      "79     77.595691\n",
      "78     79.636592\n",
      "77     81.409441\n",
      "76     84.177737\n",
      "75     84.442418\n",
      "74     86.483320\n",
      "73     88.256168\n",
      "72     91.024464\n",
      "71     91.289146\n",
      "70     93.330047\n",
      "69     95.102895\n",
      "68     97.871192\n",
      "67     98.135873\n",
      "66    100.176774\n",
      "65    101.949623\n",
      "64    104.717919\n",
      "63    104.982600\n",
      "62    107.023502\n",
      "61    108.796350\n",
      "60    111.564646\n",
      "59    111.829328\n",
      "58    113.870229\n",
      "57    115.643077\n",
      "56    118.411374\n",
      "55    118.676055\n",
      "54    120.716956\n",
      "53    122.489805\n",
      "52    125.258101\n",
      "51    125.522782\n",
      "50    127.563684\n",
      "dtype: float64\n"
     ]
    }
   ],
   "source": [
    "precasting(\"./data/population_ghi_unemploment_yearwise_import export_africa_sheet.xlsx\",  'People employed in agricultural sector in millions', 50)"
   ]
  },
  {
   "cell_type": "code",
   "execution_count": null,
   "metadata": {},
   "outputs": [],
   "source": []
  }
 ],
 "metadata": {
  "kernelspec": {
   "display_name": "venv",
   "language": "python",
   "name": "python3"
  },
  "language_info": {
   "codemirror_mode": {
    "name": "ipython",
    "version": 3
   },
   "file_extension": ".py",
   "mimetype": "text/x-python",
   "name": "python",
   "nbconvert_exporter": "python",
   "pygments_lexer": "ipython3",
   "version": "3.10.0"
  }
 },
 "nbformat": 4,
 "nbformat_minor": 2
}
